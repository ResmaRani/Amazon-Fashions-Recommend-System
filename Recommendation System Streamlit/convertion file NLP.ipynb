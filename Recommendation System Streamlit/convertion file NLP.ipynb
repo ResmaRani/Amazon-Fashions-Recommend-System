{
 "cells": [
  {
   "cell_type": "code",
   "execution_count": 1,
   "metadata": {},
   "outputs": [],
   "source": [
    "import pandas as pd"
   ]
  },
  {
   "cell_type": "code",
   "execution_count": 2,
   "metadata": {},
   "outputs": [],
   "source": [
    "Org = pd.read_csv('mydress.csv')\n",
    "Sim = pd.read_csv('mydress1.csv')  \n"
   ]
  },
  {
   "cell_type": "code",
   "execution_count": 3,
   "metadata": {},
   "outputs": [
    {
     "data": {
      "text/html": [
       "<div>\n",
       "<style scoped>\n",
       "    .dataframe tbody tr th:only-of-type {\n",
       "        vertical-align: middle;\n",
       "    }\n",
       "\n",
       "    .dataframe tbody tr th {\n",
       "        vertical-align: top;\n",
       "    }\n",
       "\n",
       "    .dataframe thead th {\n",
       "        text-align: right;\n",
       "    }\n",
       "</style>\n",
       "<table border=\"1\" class=\"dataframe\">\n",
       "  <thead>\n",
       "    <tr style=\"text-align: right;\">\n",
       "      <th></th>\n",
       "      <th>Unnamed: 0</th>\n",
       "      <th>Dress_type</th>\n",
       "      <th>Brand</th>\n",
       "      <th>Actual_price</th>\n",
       "      <th>Disc_price</th>\n",
       "      <th>Image_url</th>\n",
       "      <th>Image</th>\n",
       "    </tr>\n",
       "  </thead>\n",
       "  <tbody>\n",
       "    <tr>\n",
       "      <th>0</th>\n",
       "      <td>0</td>\n",
       "      <td>womens regular kurta with pant</td>\n",
       "      <td>GoSriKi</td>\n",
       "      <td>3999.0</td>\n",
       "      <td>569.0</td>\n",
       "      <td>https://m.media-amazon.com/images/I/61sBAZZrYp...</td>\n",
       "      <td>https://m.media-amazon.com/images/I/61sBAZZrYp...</td>\n",
       "    </tr>\n",
       "    <tr>\n",
       "      <th>1</th>\n",
       "      <td>1</td>\n",
       "      <td>womens ruby cotton printed straight kurta with...</td>\n",
       "      <td>GoSriKi</td>\n",
       "      <td>3999.0</td>\n",
       "      <td>699.0</td>\n",
       "      <td>https://m.media-amazon.com/images/I/51TQ5JLU7J...</td>\n",
       "      <td>https://m.media-amazon.com/images/I/51TQ5JLU7J...</td>\n",
       "    </tr>\n",
       "    <tr>\n",
       "      <th>2</th>\n",
       "      <td>2</td>\n",
       "      <td>womens crepe straight kurta pack of 2</td>\n",
       "      <td>GoSriKi</td>\n",
       "      <td>3999.0</td>\n",
       "      <td>379.0</td>\n",
       "      <td>https://m.media-amazon.com/images/I/713qPWv8X+...</td>\n",
       "      <td>https://m.media-amazon.com/images/I/713qPWv8X+...</td>\n",
       "    </tr>\n",
       "  </tbody>\n",
       "</table>\n",
       "</div>"
      ],
      "text/plain": [
       "   Unnamed: 0                                         Dress_type    Brand  \\\n",
       "0           0                     womens regular kurta with pant  GoSriKi   \n",
       "1           1  womens ruby cotton printed straight kurta with...  GoSriKi   \n",
       "2           2              womens crepe straight kurta pack of 2  GoSriKi   \n",
       "\n",
       "   Actual_price  Disc_price  \\\n",
       "0        3999.0       569.0   \n",
       "1        3999.0       699.0   \n",
       "2        3999.0       379.0   \n",
       "\n",
       "                                           Image_url  \\\n",
       "0  https://m.media-amazon.com/images/I/61sBAZZrYp...   \n",
       "1  https://m.media-amazon.com/images/I/51TQ5JLU7J...   \n",
       "2  https://m.media-amazon.com/images/I/713qPWv8X+...   \n",
       "\n",
       "                                               Image  \n",
       "0  https://m.media-amazon.com/images/I/61sBAZZrYp...  \n",
       "1  https://m.media-amazon.com/images/I/51TQ5JLU7J...  \n",
       "2  https://m.media-amazon.com/images/I/713qPWv8X+...  "
      ]
     },
     "execution_count": 3,
     "metadata": {},
     "output_type": "execute_result"
    }
   ],
   "source": [
    "Org.head(3)"
   ]
  },
  {
   "cell_type": "code",
   "execution_count": 8,
   "metadata": {},
   "outputs": [],
   "source": [
    "original=Org.drop(columns=['Unnamed: 0','Image_url'],axis=1)"
   ]
  },
  {
   "cell_type": "code",
   "execution_count": 9,
   "metadata": {},
   "outputs": [
    {
     "data": {
      "text/html": [
       "<div>\n",
       "<style scoped>\n",
       "    .dataframe tbody tr th:only-of-type {\n",
       "        vertical-align: middle;\n",
       "    }\n",
       "\n",
       "    .dataframe tbody tr th {\n",
       "        vertical-align: top;\n",
       "    }\n",
       "\n",
       "    .dataframe thead th {\n",
       "        text-align: right;\n",
       "    }\n",
       "</style>\n",
       "<table border=\"1\" class=\"dataframe\">\n",
       "  <thead>\n",
       "    <tr style=\"text-align: right;\">\n",
       "      <th></th>\n",
       "      <th>Dress_type</th>\n",
       "      <th>Brand</th>\n",
       "      <th>Actual_price</th>\n",
       "      <th>Disc_price</th>\n",
       "      <th>Image</th>\n",
       "    </tr>\n",
       "  </thead>\n",
       "  <tbody>\n",
       "    <tr>\n",
       "      <th>0</th>\n",
       "      <td>womens regular kurta with pant</td>\n",
       "      <td>GoSriKi</td>\n",
       "      <td>3999.0</td>\n",
       "      <td>569.0</td>\n",
       "      <td>https://m.media-amazon.com/images/I/61sBAZZrYp...</td>\n",
       "    </tr>\n",
       "    <tr>\n",
       "      <th>1</th>\n",
       "      <td>womens ruby cotton printed straight kurta with...</td>\n",
       "      <td>GoSriKi</td>\n",
       "      <td>3999.0</td>\n",
       "      <td>699.0</td>\n",
       "      <td>https://m.media-amazon.com/images/I/51TQ5JLU7J...</td>\n",
       "    </tr>\n",
       "    <tr>\n",
       "      <th>2</th>\n",
       "      <td>womens crepe straight kurta pack of 2</td>\n",
       "      <td>GoSriKi</td>\n",
       "      <td>3999.0</td>\n",
       "      <td>379.0</td>\n",
       "      <td>https://m.media-amazon.com/images/I/713qPWv8X+...</td>\n",
       "    </tr>\n",
       "  </tbody>\n",
       "</table>\n",
       "</div>"
      ],
      "text/plain": [
       "                                          Dress_type    Brand  Actual_price  \\\n",
       "0                     womens regular kurta with pant  GoSriKi        3999.0   \n",
       "1  womens ruby cotton printed straight kurta with...  GoSriKi        3999.0   \n",
       "2              womens crepe straight kurta pack of 2  GoSriKi        3999.0   \n",
       "\n",
       "   Disc_price                                              Image  \n",
       "0       569.0  https://m.media-amazon.com/images/I/61sBAZZrYp...  \n",
       "1       699.0  https://m.media-amazon.com/images/I/51TQ5JLU7J...  \n",
       "2       379.0  https://m.media-amazon.com/images/I/713qPWv8X+...  "
      ]
     },
     "execution_count": 9,
     "metadata": {},
     "output_type": "execute_result"
    }
   ],
   "source": [
    "original.head(3)"
   ]
  },
  {
   "cell_type": "code",
   "execution_count": 27,
   "metadata": {},
   "outputs": [],
   "source": [
    "original.to_csv('Original.csv')"
   ]
  },
  {
   "cell_type": "code",
   "execution_count": 10,
   "metadata": {},
   "outputs": [
    {
     "data": {
      "text/html": [
       "<div>\n",
       "<style scoped>\n",
       "    .dataframe tbody tr th:only-of-type {\n",
       "        vertical-align: middle;\n",
       "    }\n",
       "\n",
       "    .dataframe tbody tr th {\n",
       "        vertical-align: top;\n",
       "    }\n",
       "\n",
       "    .dataframe thead th {\n",
       "        text-align: right;\n",
       "    }\n",
       "</style>\n",
       "<table border=\"1\" class=\"dataframe\">\n",
       "  <thead>\n",
       "    <tr style=\"text-align: right;\">\n",
       "      <th></th>\n",
       "      <th>Unnamed: 0</th>\n",
       "      <th>0</th>\n",
       "      <th>1</th>\n",
       "      <th>2</th>\n",
       "      <th>3</th>\n",
       "      <th>4</th>\n",
       "      <th>5</th>\n",
       "      <th>6</th>\n",
       "      <th>7</th>\n",
       "      <th>8</th>\n",
       "      <th>9</th>\n",
       "      <th>10</th>\n",
       "    </tr>\n",
       "  </thead>\n",
       "  <tbody>\n",
       "    <tr>\n",
       "      <th>0</th>\n",
       "      <td>0</td>\n",
       "      <td>0</td>\n",
       "      <td>8</td>\n",
       "      <td>30</td>\n",
       "      <td>25</td>\n",
       "      <td>84</td>\n",
       "      <td>57</td>\n",
       "      <td>29</td>\n",
       "      <td>46</td>\n",
       "      <td>72</td>\n",
       "      <td>1</td>\n",
       "      <td>116</td>\n",
       "    </tr>\n",
       "    <tr>\n",
       "      <th>1</th>\n",
       "      <td>1</td>\n",
       "      <td>1</td>\n",
       "      <td>9</td>\n",
       "      <td>25</td>\n",
       "      <td>29</td>\n",
       "      <td>46</td>\n",
       "      <td>20</td>\n",
       "      <td>72</td>\n",
       "      <td>75</td>\n",
       "      <td>14</td>\n",
       "      <td>30</td>\n",
       "      <td>66</td>\n",
       "    </tr>\n",
       "    <tr>\n",
       "      <th>2</th>\n",
       "      <td>2</td>\n",
       "      <td>2</td>\n",
       "      <td>5</td>\n",
       "      <td>84</td>\n",
       "      <td>0</td>\n",
       "      <td>8</td>\n",
       "      <td>207</td>\n",
       "      <td>30</td>\n",
       "      <td>57</td>\n",
       "      <td>25</td>\n",
       "      <td>29</td>\n",
       "      <td>46</td>\n",
       "    </tr>\n",
       "  </tbody>\n",
       "</table>\n",
       "</div>"
      ],
      "text/plain": [
       "   Unnamed: 0  0  1   2   3   4    5   6   7   8   9   10\n",
       "0           0  0  8  30  25  84   57  29  46  72   1  116\n",
       "1           1  1  9  25  29  46   20  72  75  14  30   66\n",
       "2           2  2  5  84   0   8  207  30  57  25  29   46"
      ]
     },
     "execution_count": 10,
     "metadata": {},
     "output_type": "execute_result"
    }
   ],
   "source": [
    "Sim.head(3)"
   ]
  },
  {
   "cell_type": "code",
   "execution_count": 12,
   "metadata": {},
   "outputs": [],
   "source": [
    "similarity=Sim.drop('Unnamed: 0',axis=1)"
   ]
  },
  {
   "cell_type": "code",
   "execution_count": 26,
   "metadata": {},
   "outputs": [],
   "source": [
    "similarity.to_csv('similarity.csv')"
   ]
  },
  {
   "cell_type": "code",
   "execution_count": 16,
   "metadata": {},
   "outputs": [],
   "source": [
    "cn=[]\n",
    "for i in similarity.iloc[1]:\n",
    "    cn.append(original.iloc[i])"
   ]
  },
  {
   "cell_type": "code",
   "execution_count": 18,
   "metadata": {},
   "outputs": [],
   "source": [
    "cn=pd.DataFrame(cn)"
   ]
  },
  {
   "cell_type": "code",
   "execution_count": 25,
   "metadata": {},
   "outputs": [
    {
     "data": {
      "text/plain": [
       "'https://m.media-amazon.com/images/I/61g58-cu8AS._AC_UL320_.jpg'"
      ]
     },
     "execution_count": 25,
     "metadata": {},
     "output_type": "execute_result"
    }
   ],
   "source": [
    "cn['Image'][9]"
   ]
  },
  {
   "cell_type": "code",
   "execution_count": null,
   "metadata": {},
   "outputs": [],
   "source": []
  }
 ],
 "metadata": {
  "kernelspec": {
   "display_name": "Python 3",
   "language": "python",
   "name": "python3"
  },
  "language_info": {
   "codemirror_mode": {
    "name": "ipython",
    "version": 3
   },
   "file_extension": ".py",
   "mimetype": "text/x-python",
   "name": "python",
   "nbconvert_exporter": "python",
   "pygments_lexer": "ipython3",
   "version": "3.8.5"
  }
 },
 "nbformat": 4,
 "nbformat_minor": 4
}
